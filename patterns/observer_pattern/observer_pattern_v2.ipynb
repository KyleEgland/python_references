{
 "cells": [
  {
   "cell_type": "code",
   "execution_count": 1,
   "metadata": {},
   "outputs": [],
   "source": [
    "# Observer Pattern Version 2\n",
    "# This example of the observer pattern users (2) different subscriber types.\n",
    "# Each subscriber has an update message that is named differently.\n",
    "\n",
    "class Publisher:\n",
    "    def __init__(self):\n",
    "        # The subscribers variable here is a dictionary in order to hold the\n",
    "        # sub's name as well as the method by which they update.\n",
    "        self.subscribers = dict()\n",
    "\n",
    "    def register(self, who, callback=None):\n",
    "        # The \"callback\" parameter allows for a subscriber to be registered\n",
    "        # with its own unique \"update\" method.\n",
    "        if callback is None:\n",
    "            callback = getattr(who, 'update')\n",
    "        self.subscribers[who] = callback\n",
    "\n",
    "    def unregister(self, who):\n",
    "        del self.subscribers[who]\n",
    "\n",
    "    def dispatch(self, message):\n",
    "        for subscriber, callback in self.subscribers.items():\n",
    "            callback(message)"
   ]
  },
  {
   "cell_type": "code",
   "execution_count": 2,
   "metadata": {},
   "outputs": [],
   "source": [
    "class SubscriberOne:\n",
    "    def __init__(self, name):\n",
    "        self.name = name\n",
    "\n",
    "    # Subscriber one's \"update\" method remains as update.\n",
    "    def update(self, message):\n",
    "        print('{} got message \"{}\"'.format(self.name, message))\n",
    "\n",
    "class SubscriberTwo:\n",
    "    def __init__(self, name):\n",
    "        self.name = name\n",
    "\n",
    "    # Subscriber two's \"update\" method is named receive and NOT update.\n",
    "    # This differenciates SubscriberOne and SubscriberTwo.\n",
    "    def receive(self, message):\n",
    "        print('{} got message \"{}\"'.format(self.name, message))"
   ]
  },
  {
   "cell_type": "code",
   "execution_count": 3,
   "metadata": {},
   "outputs": [
    {
     "name": "stdout",
     "output_type": "stream",
     "text": [
      "Bob got message \"It's lunchtime!\"\n",
      "Alice got message \"It's lunchtime!\"\n",
      "John got message \"It's lunchtime!\"\n",
      "Bob got message \"Time for dinner!\"\n",
      "Alice got message \"Time for dinner!\"\n"
     ]
    }
   ],
   "source": [
    "# Demo time\n",
    "# Create an instance of Publisher\n",
    "pub = Publisher()\n",
    "\n",
    "# Create subscribers (in this case of differing types)\n",
    "bob = SubscriberOne('Bob')\n",
    "alice = SubscriberTwo('Alice')\n",
    "john = SubscriberOne('John')\n",
    "\n",
    "# Register the subscribers and their corresponding update methods\n",
    "pub.register(bob, bob.update)\n",
    "pub.register(alice, alice.receive)\n",
    "pub.register(john)\n",
    "\n",
    "# Send a message to show that everyone is successfully subscribed\n",
    "pub.dispatch(\"It's lunchtime!\")\n",
    "# Remove a subscriber\n",
    "pub.unregister(john)\n",
    "# Send another message to verify that subscriber was successfully removed\n",
    "pub.dispatch(\"Time for dinner!\")"
   ]
  },
  {
   "cell_type": "code",
   "execution_count": null,
   "metadata": {},
   "outputs": [],
   "source": []
  }
 ],
 "metadata": {
  "kernelspec": {
   "display_name": "Python 3",
   "language": "python",
   "name": "python3"
  },
  "language_info": {
   "codemirror_mode": {
    "name": "ipython",
    "version": 3
   },
   "file_extension": ".py",
   "mimetype": "text/x-python",
   "name": "python",
   "nbconvert_exporter": "python",
   "pygments_lexer": "ipython3",
   "version": "3.7.2"
  }
 },
 "nbformat": 4,
 "nbformat_minor": 2
}
