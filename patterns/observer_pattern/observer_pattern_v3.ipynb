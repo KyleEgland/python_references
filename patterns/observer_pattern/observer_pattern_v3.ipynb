{
 "cells": [
  {
   "cell_type": "code",
   "execution_count": 1,
   "metadata": {},
   "outputs": [],
   "source": [
    "# Observer Pattern Version 3\n",
    "# This version of the observer pattern uses only one subscriber class but has event registration.\n",
    "# This allows subscribers to get only specified events\n",
    "\n",
    "class Publisher:\n",
    "    def __init__(self, events):\n",
    "        # The subscriber list is a nested dictionary where the key is an event\n",
    "        # (e.g. what the subscribers want/need to see) and the values are\n",
    "        # dictionaries of the subscribers and their update method.\n",
    "        self.subscribers = {event: dict()\n",
    "                            for event in events}\n",
    "\n",
    "    def get_subscribers(self, event):\n",
    "        return self.subscribers[event]\n",
    "\n",
    "    def register(self, event, who, callback=None):\n",
    "        if callback is None:\n",
    "            callback = getattr(who, 'update')\n",
    "        # The subscriber is inserted into the dictionary by calling the\n",
    "        # get_subscribers method, which intakes an event (which we passed\n",
    "        # during instantiation).  The subscriber and the callback are then\n",
    "        # passed and added to the dictionary.\n",
    "        self.get_subscribers(event)[who] = callback\n",
    "\n",
    "    def unregister(self, event, who):\n",
    "        del self.get_subscribers(event)[who]\n",
    "\n",
    "    def dispatch(self, event, message):\n",
    "        # Dispatches/updates must be done per event (meaning there isn't\n",
    "        # a blanket update-all statement).\n",
    "        for subscriber, callback in self.get_subscribers(event).items():\n",
    "            callback(message)"
   ]
  },
  {
   "cell_type": "code",
   "execution_count": 2,
   "metadata": {},
   "outputs": [],
   "source": [
    "class Subscriber:\n",
    "    def __init__(self, name):\n",
    "        self.name = name\n",
    "\n",
    "    def update(self, message):\n",
    "        print('{} got message \"{}\"'.format(self.name, message))"
   ]
  },
  {
   "cell_type": "code",
   "execution_count": 3,
   "metadata": {},
   "outputs": [
    {
     "name": "stdout",
     "output_type": "stream",
     "text": [
      "Bob got message \"It's lunchtime!\"\n",
      "John got message \"It's lunchtime!\"\n",
      "Alice got message \"Dinner is served\"\n",
      "John got message \"Dinner is served\"\n"
     ]
    }
   ],
   "source": [
    "# Demo time\n",
    "# Create an instance of Publisher that has (2) events\n",
    "pub = Publisher(['lunch', 'dinner'])\n",
    "\n",
    "# Create the subscribers - only name given\n",
    "bob = Subscriber('Bob')\n",
    "alice = Subscriber('Alice')\n",
    "john = Subscriber('John')\n",
    "\n",
    "# Register the subscribers with the publisher - include the desired event\n",
    "pub.register('lunch', bob)\n",
    "pub.register('dinner', alice)\n",
    "pub.register('lunch', john)\n",
    "pub.register('dinner', john)\n",
    "\n",
    "# Push notifcations to subscribers - only the subscribers that asked for the specific event(s) should receive\n",
    "# event notice as appropriate (only subscriber \"john\" receives both)\n",
    "pub.dispatch('lunch', \"It's lunchtime!\")\n",
    "pub.dispatch('dinner', 'Dinner is served')"
   ]
  },
  {
   "cell_type": "code",
   "execution_count": null,
   "metadata": {},
   "outputs": [],
   "source": []
  }
 ],
 "metadata": {
  "kernelspec": {
   "display_name": "Python 3",
   "language": "python",
   "name": "python3"
  },
  "language_info": {
   "codemirror_mode": {
    "name": "ipython",
    "version": 3
   },
   "file_extension": ".py",
   "mimetype": "text/x-python",
   "name": "python",
   "nbconvert_exporter": "python",
   "pygments_lexer": "ipython3",
   "version": "3.7.2"
  }
 },
 "nbformat": 4,
 "nbformat_minor": 2
}
