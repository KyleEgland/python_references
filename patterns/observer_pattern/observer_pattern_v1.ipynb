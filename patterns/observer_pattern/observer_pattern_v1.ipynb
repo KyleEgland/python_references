{
 "cells": [
  {
   "cell_type": "code",
   "execution_count": 1,
   "metadata": {},
   "outputs": [],
   "source": [
    "# Observer Pattern Version 1\n",
    "# The idea behind this design is there is something needing observed and\n",
    "# other objects that need that information. The example below uses a\n",
    "# Publisher (the object with information) and Subscribers (objects that\n",
    "# need the information the publisher has) to accomplish info dissemination.\n",
    "# This example is the most basic example\n",
    "\n",
    "class Publisher:\n",
    "    # This class will contain the subscribers, add (register), remove\n",
    "    # (unregister), and push notification (dispatch).\n",
    "    def __init__(self):\n",
    "        # Create an empty set of subscribers upon instantiation\n",
    "        self.subscribers = set()\n",
    "\n",
    "    def register(self, who):\n",
    "        # Add a subscriber to the set\n",
    "        self.subscribers.add(who)\n",
    "\n",
    "    def unregister(self, who):\n",
    "        # Remove a subscriber from the set\n",
    "        self.subscribers.discard(who)\n",
    "\n",
    "    # Note:  This method only works if the subscriber has a methdo called\n",
    "    # \"update\" - which is written into the above subscriber class\n",
    "    def dispatch(self, message):\n",
    "        for subscriber in self.subscribers:\n",
    "            subscriber.update(message)"
   ]
  },
  {
   "cell_type": "code",
   "execution_count": 2,
   "metadata": {},
   "outputs": [],
   "source": [
    "class Subscriber:\n",
    "    def __init__(self, name):\n",
    "        # Designate name upon instantiation\n",
    "        self.name = name\n",
    "\n",
    "    def update(self, message):\n",
    "        # This method allows for the update/notification process.  Here, the\n",
    "        # subscriber will simply print out a message.  This can do whatever\n",
    "        # it needs to do.\n",
    "        print('{} got message \"{}\"'.format(self.name, message))"
   ]
  },
  {
   "cell_type": "code",
   "execution_count": 3,
   "metadata": {},
   "outputs": [
    {
     "name": "stdout",
     "output_type": "stream",
     "text": [
      "Alice got message \"It's lunchtime!\"\n",
      "John got message \"It's lunchtime!\"\n",
      "Bob got message \"It's lunchtime!\"\n",
      "Alice got message \"Time for dinner\"\n",
      "Bob got message \"Time for dinner\"\n"
     ]
    }
   ],
   "source": [
    "# First a publisher (instance to contain list of subscribers) is created.\n",
    "pub = Publisher()\n",
    "# Next, subscribers are created.\n",
    "bob = Subscriber('Bob')\n",
    "alice = Subscriber('Alice')\n",
    "john = Subscriber('John')\n",
    "\n",
    "# Then the subscribers are registered to the publisher in order to allow them\n",
    "# to \"see\" updates.\n",
    "pub.register(bob)\n",
    "pub.register(alice)\n",
    "pub.register(john)\n",
    "\n",
    "# Finally an update is pushed!\n",
    "pub.dispatch('It\\'s lunchtime!')\n",
    "# Check to see if the unregister method works\n",
    "pub.unregister(john)\n",
    "# Push a final update\n",
    "pub.dispatch('Time for dinner')"
   ]
  },
  {
   "cell_type": "code",
   "execution_count": null,
   "metadata": {},
   "outputs": [],
   "source": []
  }
 ],
 "metadata": {
  "kernelspec": {
   "display_name": "Python 3",
   "language": "python",
   "name": "python3"
  },
  "language_info": {
   "codemirror_mode": {
    "name": "ipython",
    "version": 3
   },
   "file_extension": ".py",
   "mimetype": "text/x-python",
   "name": "python",
   "nbconvert_exporter": "python",
   "pygments_lexer": "ipython3",
   "version": "3.7.2"
  }
 },
 "nbformat": 4,
 "nbformat_minor": 2
}
