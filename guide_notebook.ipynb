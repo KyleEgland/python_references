{
 "cells": [
  {
   "cell_type": "markdown",
   "metadata": {},
   "source": [
    "# Kyle's Python Reference\n",
    "This is the index for my Python reference - welcome!  I've tried to create this to be both useful for myself and others.  I've learned a LOT from free resources - various forums, threads, articles, etc. - and want to try to give back to the community.  This repo will be a continuously changing and improving project for me (you should _never_ be done learning) so feel free to fork it, clone it, or use this information in whatever way you see fit!  Lastly, thanks for checking out my work, it means a lot.\n",
    "\n",
    "Current Status (9-MAY-2019)\n",
    "- Creating the basic structure for the index\n",
    "- Files need to be reorganized in the root\n",
    "    - The idea is to have this index be the only thing that people have to interact with to find the reference point they're looking for.  The code won't be abstracted away but, rather, navigable through this index (no manual digging through the file structure)\n",
    "\n",
    "## Table of Contents\n",
    "TODO: Restructure existing files and populate this\n",
    "\n",
    "## Credits\n",
    "There is no way I can possibly credit everyone, every group, subreddit, etc. that have helped me (and continue to help) through my journey.  However, doesn't mean I shouldn't try.  Please checkout the below people/places/groups/orgnaizations as they have (in some way or another) made this possible.\n",
    "\n",
    "- [Real Python](https://realpython.com/)\n",
    "    - [Python’s Requests Library (Guide)](https://realpython.com/python-requests/) by [Alex Ronquillo](https://realpython.com/team/aronquillo/)\n",
    "- [Tutorial: The Observer Pattern in Python](https://youtu.be/87MNuBgeg34) from channel [InfoQ](https://www.youtube.com/channel/UCkQX1tChV7Z7l1LFF4L9j_g)\n"
   ]
  },
  {
   "cell_type": "code",
   "execution_count": null,
   "metadata": {},
   "outputs": [],
   "source": []
  }
 ],
 "metadata": {
  "kernelspec": {
   "display_name": "Python 3",
   "language": "python",
   "name": "python3"
  },
  "language_info": {
   "codemirror_mode": {
    "name": "ipython",
    "version": 3
   },
   "file_extension": ".py",
   "mimetype": "text/x-python",
   "name": "python",
   "nbconvert_exporter": "python",
   "pygments_lexer": "ipython3",
   "version": "3.7.3"
  }
 },
 "nbformat": 4,
 "nbformat_minor": 2
}
