{
 "cells": [
  {
   "cell_type": "code",
   "execution_count": 9,
   "metadata": {},
   "outputs": [
    {
     "name": "stdout",
     "output_type": "stream",
     "text": [
      "{   'container': {   'set_1': {   's1_attr1': 'value1',\n",
      "                                  's1_attr2': 'value2',\n",
      "                                  's1_attr3': 'value3'},\n",
      "                     'set_2': {   's2_attr1': 'value1',\n",
      "                                  's2_attr2': 'value2',\n",
      "                                  's2_attr3': 'value3'}}}\n"
     ]
    }
   ],
   "source": [
    "# Dictionary Stuff\n",
    "# \"Appending\" a dictionary as a key to an existing dictionary.\n",
    "# I've done this to create a json file:\n",
    "# {\n",
    "#     Containter: {\n",
    "#         set_1: {\n",
    "#             s1_attr1: value,\n",
    "#             s1_attr2: value,\n",
    "#             s1_attr3: value\n",
    "#         },\n",
    "#         set_2: {\n",
    "#             s2_attr1: value,\n",
    "#             s2_attr2: value,\n",
    "#             s3_attr3: value\n",
    "#         }\n",
    "#     }\n",
    "# }\n",
    "# The use case was that I needed to collect specific data from users and that data could have\n",
    "# multiple sets under a common container.  They need to be collected one at a time and then\n",
    "# stored to creat the json file.\n",
    "import pprint\n",
    "\n",
    "# Instantiate the top level dictionary <- this will be fed into a json file\n",
    "to_become_json = dict()\n",
    "\n",
    "# Dictionary 1 to add\n",
    "# There is a top level category (set_1) which has multiple attributes belonging to it\n",
    "dict_1 = {'set_1': {\n",
    "    's1_attr1': 'value1',\n",
    "    's1_attr2': 'value2',\n",
    "    's1_attr3': 'value3'}}\n",
    "\n",
    "# Dictionary 2 to add - same as above except for content\n",
    "dict_2 = {'set_2': {\n",
    "    's2_attr1': 'value1',\n",
    "    's2_attr2': 'value2',\n",
    "    's2_attr3': 'value3'}}\n",
    "\n",
    "# Now, we add both dictionaries to the var to become json with a container name\n",
    "# Create an empty dictionary with the appropriate container name\n",
    "to_become_json['container'] = {}\n",
    "# Add the \"sets\" to the new container\n",
    "to_become_json['container']['set_1'] = dict_1['set_1']\n",
    "to_become_json['container']['set_2'] = dict_2['set_2']\n",
    "# Show results\n",
    "pp = pprint.PrettyPrinter(indent=4)\n",
    "pp.pprint(to_become_json)"
   ]
  },
  {
   "cell_type": "code",
   "execution_count": null,
   "metadata": {},
   "outputs": [],
   "source": []
  }
 ],
 "metadata": {
  "kernelspec": {
   "display_name": "Python 3",
   "language": "python",
   "name": "python3"
  },
  "language_info": {
   "codemirror_mode": {
    "name": "ipython",
    "version": 3
   },
   "file_extension": ".py",
   "mimetype": "text/x-python",
   "name": "python",
   "nbconvert_exporter": "python",
   "pygments_lexer": "ipython3",
   "version": "3.7.2"
  }
 },
 "nbformat": 4,
 "nbformat_minor": 2
}
