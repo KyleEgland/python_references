{
 "cells": [
  {
   "cell_type": "markdown",
   "metadata": {},
   "source": [
    "# Bar Charts and Histograms\n",
    "This tutorial's material was taken from a series done by sentdex (YouTube channel) which I HIGHLY recommend watching for yourself. The code herein is not exact but represents what I needed to understand this module for my uses.\n",
    "\n",
    "[Play list](https://www.youtube.com/playlist?list=PLQVvvaa0QuDfefDfXb9Yf0la1fPDKluPF)\n",
    "### Bar Charts"
   ]
  },
  {
   "cell_type": "code",
   "execution_count": 3,
   "metadata": {},
   "outputs": [
    {
     "data": {
      "image/png": "[encoded data removed]",
      "text/plain": [
       "<Figure size 432x288 with 1 Axes>"
      ]
     },
     "metadata": {
      "needs_background": "light"
     },
     "output_type": "display_data"
    }
   ],
   "source": [
    "# NOTE: The first line, \"%matplotlib inline\" is necessary only for the Jupyter notebook. You won't\n",
    "# need it in a \"regular\" .py file.\n",
    "%matplotlib inline\n",
    "import matplotlib.pyplot as plt\n",
    "\n",
    "x = [2, 4, 6, 8, 10]\n",
    "y = [6, 7, 8, 2, 4]\n",
    "\n",
    "x2 = [1, 3, 5, 7, 9]\n",
    "y2 = [7, 8, 2, 4, 2]\n",
    "\n",
    "# Plotting bars, simply use the .bar() method\n",
    "# You'll notice a new attribute color, you can use preset colors (red, green, etc.), hex values, or even\n",
    "# one letter colors (r, k, c, etc.)\n",
    "plt.bar(x, y, label='Bars1', color='green')\n",
    "plt.bar(x2, y2, label='Bars2', color='red')\n",
    "\n",
    "plt.xlabel('x')\n",
    "plt.ylabel('y')\n",
    "plt.title('Interesting Graph\\Check it Out')\n",
    "plt.legend()\n",
    "plt.show()"
   ]
  },
  {
   "cell_type": "markdown",
   "metadata": {},
   "source": [
    "### Histograms\n",
    "Generally speaking, histograms are used for showing a distribution of some kind."
   ]
  },
  {
   "cell_type": "code",
   "execution_count": 7,
   "metadata": {},
   "outputs": [
    {
     "data": {
      "image/png": "[encoded data removed]",
      "text/plain": [
       "<Figure size 432x288 with 1 Axes>"
      ]
     },
     "metadata": {
      "needs_background": "light"
     },
     "output_type": "display_data"
    }
   ],
   "source": [
    "# Made up population of a set of people <- strictly for plotting demonstration, don't worry about the values\n",
    "population_ages = [22, 55, 62, 45, 21, 22, 34, 42, 42, 99, 102, 110, 32, 71, 33, 30, 27, 82, 73, 11, 7]\n",
    "\n",
    "# Create containers for the age brackets - it will combine ages that are within that represented decade\n",
    "# I.e. 0 - 9, 10 - 19, etc.\n",
    "bins = [0, 10, 20, 30, 40, 50, 60, 70, 80, 90, 100, 110, 120, 130]\n",
    "\n",
    "# Plot the histogram:\n",
    "# First, the list of values (population_ages, our \"data\")\n",
    "# Next, the \"bins\" that the values will be categorized into\n",
    "# Then, the type of histogram (histtype)\n",
    "# Lastly, we are specifying the width of the bars (this is optional)\n",
    "plt.hist(population_ages, bins, histtype='bar', rwidth=0.8)\n",
    "\n",
    "plt.xlabel('Decade Range')\n",
    "plt.ylabel('Age')\n",
    "plt.title('Another Interesting Graph\\nHistogram')\n",
    "plt.show()"
   ]
  },
  {
   "cell_type": "code",
   "execution_count": null,
   "metadata": {},
   "outputs": [],
   "source": []
  }
 ],
 "metadata": {
  "kernelspec": {
   "display_name": "Python 3",
   "language": "python",
   "name": "python3"
  },
  "language_info": {
   "codemirror_mode": {
    "name": "ipython",
    "version": 3
   },
   "file_extension": ".py",
   "mimetype": "text/x-python",
   "name": "python",
   "nbconvert_exporter": "python",
   "pygments_lexer": "ipython3",
   "version": "3.7.2"
  }
 },
 "nbformat": 4,
 "nbformat_minor": 2
}
