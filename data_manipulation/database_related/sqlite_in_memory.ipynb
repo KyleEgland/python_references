{
 "cells": [
  {
   "cell_type": "code",
   "execution_count": 2,
   "metadata": {},
   "outputs": [],
   "source": [
    "# Python SQLite Tutorial: Complete Oververview - Creating a Database, Table and\n",
    "# Running [YouTube video]\n",
    "# Corey Schafer [YouTube channel]\n",
    "# I do not claim this work as my own so much as what I did while following\n",
    "# along with the video I watched (see reference above).  This recreation is for\n",
    "# my own reference purposes and may contain slight variations not depicted in\n",
    "# the original video.\n",
    "# sqlite3 is in the standard library\n",
    "import sqlite3\n",
    "# local import\n",
    "from employee import Employee"
   ]
  },
  {
   "cell_type": "code",
   "execution_count": 3,
   "metadata": {},
   "outputs": [
    {
     "data": {
      "text/plain": [
       "<sqlite3.Cursor at 0x5405760>"
      ]
     },
     "execution_count": 3,
     "metadata": {},
     "output_type": "execute_result"
    }
   ],
   "source": [
    "# Create an \"in-memory\" database and establish a connection\n",
    "conn = sqlite3.connect(':memory:')\n",
    "\n",
    "# Create a cursor.  The cursor is what allows you to actually manipulate the\n",
    "# database (I.e. add tables, data, etc.).\n",
    "c = conn.cursor()\n",
    "\n",
    "# Create a table in the db\n",
    "c.execute(\"\"\"CREATE TABLE employees (\n",
    "            first text,\n",
    "            last text,\n",
    "            pay integer\n",
    "            )\"\"\")"
   ]
  },
  {
   "cell_type": "code",
   "execution_count": 4,
   "metadata": {},
   "outputs": [],
   "source": [
    "def insert_emp(emp):\n",
    "    # Using a context manager, we'll insert the new employee into the database.\n",
    "    # This practice prevents us from having to worry about managing a cursor.\n",
    "    # If all goes well with the transaction, the data will be written and\n",
    "    # committed.  If the transaction fails, the data will be rolled back to a\n",
    "    # point before the add.\n",
    "    with conn:\n",
    "        c.execute(\"INSERT INTO employees VALUES(:first, :last, :pay)\",\n",
    "                  {'first': emp.first, 'last': emp.last, 'pay': emp.pay})\n",
    "\n",
    "def get_emps_by_name(lastname):\n",
    "    c.execute(\"SELECT * FROM employees WHERE last=:last\", {'last': lastname})\n",
    "    return c.fetchall()\n",
    "\n",
    "def update_pay(emp, pay):\n",
    "    with conn:\n",
    "        c.execute(\"\"\"UPDATE employees SET pay = :pay\n",
    "        WHERE first = :first AND last = :last\"\"\",\n",
    "                  {'first': emp.first, 'last': emp.last, 'pay': pay})\n",
    "\n",
    "def remove_emp(emp):\n",
    "    with conn:\n",
    "        c.execute(\"\"\"DELETE FROM employees WHERE first = :first\n",
    "                     AND last = :last\"\"\",\n",
    "                  {'first': emp.first, 'last': emp.last})"
   ]
  },
  {
   "cell_type": "code",
   "execution_count": 5,
   "metadata": {},
   "outputs": [
    {
     "name": "stdout",
     "output_type": "stream",
     "text": [
      "[('John', 'Doe', 80000), ('Jane', 'Doe', 90000)]\n",
      "[('Jane', 'Doe', 95000)]\n"
     ]
    }
   ],
   "source": [
    "# Use the employee class to create data\n",
    "emp_1 = Employee('John', 'Doe', 80000)\n",
    "emp_2 = Employee('Jane', 'Doe', 90000)\n",
    "\n",
    "insert_emp(emp_1)\n",
    "insert_emp(emp_2)\n",
    "\n",
    "emps = get_emps_by_name('Doe')\n",
    "print(emps)\n",
    "\n",
    "update_pay(emp_2, 95000)\n",
    "\n",
    "remove_emp(emp_1)\n",
    "\n",
    "emps = get_emps_by_name('Doe')\n",
    "print(emps)\n",
    "\n",
    "# It's important to close the connection to the database when finished\n",
    "conn.close()"
   ]
  },
  {
   "cell_type": "code",
   "execution_count": null,
   "metadata": {},
   "outputs": [],
   "source": []
  }
 ],
 "metadata": {
  "kernelspec": {
   "display_name": "Python 3",
   "language": "python",
   "name": "python3"
  },
  "language_info": {
   "codemirror_mode": {
    "name": "ipython",
    "version": 3
   },
   "file_extension": ".py",
   "mimetype": "text/x-python",
   "name": "python",
   "nbconvert_exporter": "python",
   "pygments_lexer": "ipython3",
   "version": "3.7.2"
  }
 },
 "nbformat": 4,
 "nbformat_minor": 2
}
