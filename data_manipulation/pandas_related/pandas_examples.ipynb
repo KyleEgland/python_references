{
 "cells": [
  {
   "cell_type": "code",
   "execution_count": 1,
   "metadata": {},
   "outputs": [],
   "source": [
    "# Pandas Examples\n",
    "# This file is intended to be the \"most involved\" file (there may be others in this directory that are\n",
    "# specific and limited in scope)\n",
    "import pandas"
   ]
  },
  {
   "cell_type": "markdown",
   "metadata": {},
   "source": [
    "### Getting Started - Importing Data"
   ]
  },
  {
   "cell_type": "code",
   "execution_count": null,
   "metadata": {},
   "outputs": [],
   "source": [
    "# Creating data from a list of dictionaries\n",
    "# This is the first thing that I ran into when I began data analysis with Python so it's the first thing I'll share.\n",
    "# First, we instantiate a dictionary of dummy data\n",
    "input_data = [{'Employee Name': 'Kyle Egland', 'Employee Number': 8675309, 'Position': 'Quality Engineer'},\n",
    "             {'Employee Name': 'Steve Jobs', 'Employee Number': 6927753, 'Position': 'Marketing Director'},\n",
    "             {'Employee Name': 'Linus Torvalds', 'Employee Number': 1228969, 'Position': 'Software Engineer'},\n",
    "             {'Employee Name': 'William Gates', 'Employee Number': 7067329, 'Position': 'CEO'},\n",
    "             {'Employee Name': 'Elon Musk', 'Employee Number': 5183752, 'Position': 'R&D'},]"
   ]
  }
 ],
 "metadata": {
  "kernelspec": {
   "display_name": "Python 3",
   "language": "python",
   "name": "python3"
  },
  "language_info": {
   "codemirror_mode": {
    "name": "ipython",
    "version": 3
   },
   "file_extension": ".py",
   "mimetype": "text/x-python",
   "name": "python",
   "nbconvert_exporter": "python",
   "pygments_lexer": "ipython3",
   "version": "3.7.2"
  }
 },
 "nbformat": 4,
 "nbformat_minor": 2
}
